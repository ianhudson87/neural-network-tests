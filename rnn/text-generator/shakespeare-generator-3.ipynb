{
 "cells": [
  {
   "cell_type": "code",
   "execution_count": 31,
   "metadata": {},
   "outputs": [
    {
     "name": "stdout",
     "output_type": "stream",
     "text": [
      "corpus length: 4049387\n",
      "total chars: 27\n",
      "[' ', 'a', 'b', 'c', 'd', 'e', 'f', 'g', 'h', 'i', 'j', 'k', 'l', 'm', 'n', 'o', 'p', 'q', 'r', 's', 't', 'u', 'v', 'w', 'x', 'y', 'z']\n",
      "so shaken as we are so wan with care find we a tim\n"
     ]
    }
   ],
   "source": [
    "import glob\n",
    "import re\n",
    "\n",
    "files = glob.glob(\"C:/Users/ians-pc/Desktop/repos/neural-network-tests/rnn/text-generator/shakespeare/*.txt\")\n",
    "text = \"\"\n",
    "for f in files:\n",
    "    text += open(f).read().lower()\n",
    "    \n",
    "# get rid of all non characters\n",
    "words = re.findall(\"[a-z]+\", text)\n",
    "text = \"\"\n",
    "for w in words:\n",
    "    text += w + \" \"\n",
    "    \n",
    "\n",
    "characters = sorted(list(set(text)))\n",
    "\n",
    "print('corpus length:', len(text))\n",
    "print('total chars:', len(characters))\n",
    "print(characters)\n",
    "print(text[0:50])"
   ]
  },
  {
   "cell_type": "code",
   "execution_count": 32,
   "metadata": {},
   "outputs": [
    {
     "name": "stdout",
     "output_type": "stream",
     "text": [
      "{' ': 0, 'a': 1, 'b': 2, 'c': 3, 'd': 4, 'e': 5, 'f': 6, 'g': 7, 'h': 8, 'i': 9, 'j': 10, 'k': 11, 'l': 12, 'm': 13, 'n': 14, 'o': 15, 'p': 16, 'q': 17, 'r': 18, 's': 19, 't': 20, 'u': 21, 'v': 22, 'w': 23, 'x': 24, 'y': 25, 'z': 26}\n"
     ]
    }
   ],
   "source": [
    "char2indices = {c:i for i,c in enumerate(characters)}\n",
    "indices2car = {i:c for i,c in enumerate(characters)}\n",
    "print(char2indices)"
   ]
  },
  {
   "cell_type": "code",
   "execution_count": null,
   "metadata": {},
   "outputs": [],
   "source": [
    "max_len = 40\n",
    "step = 3\n",
    "sentences = []\n",
    "next_chars = []\n",
    "\n",
    "for i in range(0, len(text)-max_len, step):\n",
    "    sentences"
   ]
  }
 ],
 "metadata": {
  "kernelspec": {
   "display_name": "Python 3",
   "language": "python",
   "name": "python3"
  },
  "language_info": {
   "codemirror_mode": {
    "name": "ipython",
    "version": 3
   },
   "file_extension": ".py",
   "mimetype": "text/x-python",
   "name": "python",
   "nbconvert_exporter": "python",
   "pygments_lexer": "ipython3",
   "version": "3.7.4"
  }
 },
 "nbformat": 4,
 "nbformat_minor": 4
}
