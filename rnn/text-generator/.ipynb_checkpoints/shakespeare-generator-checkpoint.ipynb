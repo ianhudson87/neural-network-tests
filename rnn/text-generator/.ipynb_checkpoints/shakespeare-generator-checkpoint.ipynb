{
 "cells": [
  {
   "cell_type": "code",
   "execution_count": 189,
   "metadata": {},
   "outputs": [],
   "source": [
    "import glob\n",
    "import re\n",
    "import numpy as np\n",
    "from keras.preprocessing.sequence import pad_sequences\n",
    "import keras.utils as ku\n",
    "from keras.models import Sequential\n",
    "from keras.layers import Embedding, LSTM, Dense, Dropout"
   ]
  },
  {
   "cell_type": "code",
   "execution_count": 163,
   "metadata": {},
   "outputs": [],
   "source": [
    "def get_sentences(s):\n",
    "    sentences = re.split(\"\\.|\\;|\\!|\\?|\\:\", s)\n",
    "    sentences = [s.strip() for s in sentences if s != '']\n",
    "    return(sentences)\n",
    "    \"\"\"\n",
    "    Input:\n",
    "        string s\n",
    "    Output:\n",
    "        list of strings\n",
    "    \"\"\"\n",
    "    \n",
    "\n",
    "\n",
    "def tokenize(s):\n",
    "    # turns string into list of strings separated by spaces\n",
    "    return s.split()\n",
    "    \"\"\"\n",
    "    Input:\n",
    "        string s\n",
    "    Output:\n",
    "        list of strings\n",
    "    \"\"\"\n",
    "    \n",
    "def preprocess(s, lowercase=True, strip_punctuation=True):\n",
    "    \"\"\"\n",
    "    Input:\n",
    "        string s\n",
    "        boolean lowercase\n",
    "        boolean strip_punctuation\n",
    "    Output:\n",
    "        list of strings\n",
    "    \"\"\"\n",
    "    punctuation='.,?<>:;\"\\'!%'\n",
    "    if isinstance(s, str):\n",
    "        # if s is an instance of the string class\n",
    "        s = tokenize(s)\n",
    "    if lowercase:\n",
    "        # if the lowercase option is true, go through each element in the list and turn the characters lowercase\n",
    "        s = [t.lower() for t in s]\n",
    "    if strip_punctuation:\n",
    "        # get rid of the punction for each of the elements in the list\n",
    "        # need to do this after splitting each word up because strip only looks at the beginning and end of a string\n",
    "        s = [t.strip(punctuation) for t in s]\n",
    "    return s\n",
    "    \n",
    "def token_frequency(tokens, tf=None, relative=False):\n",
    "    # We want to have raw frequency as default because if we want to look at multiple texts, then we can add the raw frequencies together\n",
    "    \"\"\"\n",
    "    Input: \n",
    "        tokens = list of strings or None\n",
    "        tf = dict or None\n",
    "        realtive = boolean\n",
    "    Return:\n",
    "        dictionary of tokens and frequency {t:f}\n",
    "    \"\"\"\n",
    "    token_frequency = {} # dictionary to hold token counts\n",
    "    \n",
    "    # adding previous token frequency dictionary\n",
    "    token_frequency={} if tf==None else tf\n",
    "    if len(token_frequency) != 0 and relative==True:\n",
    "        if isinstance(list(token_frequency.items())[0][1], float):\n",
    "            print('warning, adding raw counts to relative frequency')\n",
    "            return tf\n",
    "    \n",
    "    # counting up the words\n",
    "    for token in tokens:\n",
    "        if token in token_frequency:\n",
    "            # if the token is already a key in the dictionary\n",
    "            token_frequency[token] += 1\n",
    "        else:\n",
    "            # token is not a key in the dictionary\n",
    "            token_frequency[token] = 1\n",
    "    \n",
    "    # changing to relative or keeping as raw frequency\n",
    "    if relative:\n",
    "        # relative frequency is wanted\n",
    "        total_words = sum([v for k, v in token_frequency.items()]) # total number of words in the string that was input and the new tf dictionary\n",
    "        return {k:v/total_words for k,v in token_frequency.items()} # go through each key, value pair in the dictionary and divide the value by the total number of words \n",
    "        # note: dictionary.items() turns the dictionary into a list of tuples ie. [(key1, value1), (key2, value2)]\n",
    "    else:\n",
    "        # want raw frequency\n",
    "        return token_frequency"
   ]
  },
  {
   "cell_type": "code",
   "execution_count": 171,
   "metadata": {},
   "outputs": [
    {
     "name": "stdout",
     "output_type": "stream",
     "text": [
      "28882\n"
     ]
    }
   ],
   "source": [
    "files = glob.glob(\"./shakespeare/*.txt\")\n",
    "\n",
    "# total token frequency\n",
    "total_frequency = {}\n",
    "\n",
    "# list of sentences\n",
    "sentences = []\n",
    "\n",
    "for file in files:\n",
    "    # tokenize text\n",
    "    text = open(file, \"r\").read()\n",
    "    tokens = preprocess(text)\n",
    "    total_frequency = token_frequency(tokens, tf=total_frequency) # update running total token frequency\n",
    "    sentences += get_sentences(text)\n",
    "    \n",
    "# sentences is list of strings. Each entry is one sentence\n",
    "\n",
    "sentences = [preprocess(s) for s in sentences]\n",
    "\n",
    "# sentences is list of list of strings. Each row (first dim) is a sentences. Each col is a word in the sentence"
   ]
  },
  {
   "cell_type": "code",
   "execution_count": 172,
   "metadata": {},
   "outputs": [
    {
     "name": "stdout",
     "output_type": "stream",
     "text": [
      "['so', 'shaken', 'as', 'we', 'are', 'so', 'wan', 'with', 'care', 'find', 'we', 'a', 'time', 'for', 'frighted', 'peace', 'to', 'pant', 'and', 'breathe', 'short-winded', 'accents', 'of', 'new', 'broils', 'to', 'be', 'commenced', 'in', 'strands', 'afar', 'remote']\n"
     ]
    }
   ],
   "source": [
    "print(sentences[0])"
   ]
  },
  {
   "cell_type": "code",
   "execution_count": 173,
   "metadata": {},
   "outputs": [],
   "source": [
    "# convert words to numbers by going through each word in order and assigning it a number in a lookup table\n",
    "word_lookup = {}\n",
    "\n",
    "for i1, s in enumerate(sentences):\n",
    "    for i2, w in enumerate(s):\n",
    "        if w in word_lookup:\n",
    "            # word seen before\n",
    "            sentences[i1][i2] = word_lookup[w]\n",
    "        else:\n",
    "            sentences[i1][i2] = len(word_lookup)\n",
    "            word_lookup[w] = len(word_lookup)"
   ]
  },
  {
   "cell_type": "code",
   "execution_count": 174,
   "metadata": {},
   "outputs": [
    {
     "name": "stdout",
     "output_type": "stream",
     "text": [
      "82097\n",
      "82066\n",
      "[0, 1, 2, 3, 4, 0, 5, 6, 7, 8, 3, 9, 10, 11, 12, 13, 14, 15, 16, 17, 18, 19, 20, 21, 22, 14, 23, 24, 25, 26, 27, 28]\n"
     ]
    }
   ],
   "source": [
    "print(len(sentences))\n",
    "sentences = [s for s in sentences if s!=[]]\n",
    "print(len(sentences))\n",
    "print(sentences[0])"
   ]
  },
  {
   "cell_type": "code",
   "execution_count": 175,
   "metadata": {},
   "outputs": [
    {
     "name": "stdout",
     "output_type": "stream",
     "text": [
      "160\n",
      "28665\n"
     ]
    }
   ],
   "source": [
    "# find max length of sentence\n",
    "max_len = max([len(s) for s in sentences])\n",
    "print(max_len)\n",
    "\n",
    "# find total number of words\n",
    "total_words = len(word_lookup)\n",
    "print(total_words)"
   ]
  },
  {
   "cell_type": "code",
   "execution_count": 176,
   "metadata": {},
   "outputs": [],
   "source": [
    "# pad sentences to all have same length\n",
    "input_sequences = np.array(pad_sequences(sentences, maxlen=max_len, padding='pre'))\n",
    "\n",
    "predictors, label = input_sequences[:,:-1],input_sequences[:,-1]\n",
    "label = ku.to_categorical(label, num_classes=total_words) # one hot encoding"
   ]
  },
  {
   "cell_type": "code",
   "execution_count": 185,
   "metadata": {},
   "outputs": [
    {
     "name": "stdout",
     "output_type": "stream",
     "text": [
      "[[    0     0     0 ...    26    27    28]\n",
      " [    0     0     0 ...    40    41    42]\n",
      " [    0     0     0 ...    20    52    53]\n",
      " ...\n",
      " [    0     0     0 ...    14   389  1078]\n",
      " [    0     0     0 ...     3   111 28664]\n",
      " [    0     0     0 ... 19489  1075   986]]\n",
      "\n",
      "\n",
      "[[    0     0     0 ...    25    26    27]\n",
      " [    0     0     0 ...    38    40    41]\n",
      " [    0     0     0 ...    51    20    52]\n",
      " ...\n",
      " [    0     0     0 ... 18003    14   389]\n",
      " [    0     0     0 ...  1369     3   111]\n",
      " [    0     0     0 ...     0 19489  1075]]\n",
      "1.0\n"
     ]
    }
   ],
   "source": [
    "print(input_sequences)\n",
    "print('\\n')\n",
    "print(predictors)\n",
    "print(label[0][28])"
   ]
  },
  {
   "cell_type": "markdown",
   "metadata": {},
   "source": [
    "#### Creating Model"
   ]
  },
  {
   "cell_type": "code",
   "execution_count": 195,
   "metadata": {},
   "outputs": [
    {
     "name": "stdout",
     "output_type": "stream",
     "text": [
      "Model: \"sequential_5\"\n",
      "_________________________________________________________________\n",
      "Layer (type)                 Output Shape              Param #   \n",
      "=================================================================\n",
      "embedding_4 (Embedding)      (None, 159, 10)           286650    \n",
      "_________________________________________________________________\n",
      "lstm_4 (LSTM)                (None, 100)               44400     \n",
      "_________________________________________________________________\n",
      "dropout_4 (Dropout)          (None, 100)               0         \n",
      "_________________________________________________________________\n",
      "dense_4 (Dense)              (None, 28665)             2895165   \n",
      "=================================================================\n",
      "Total params: 3,226,215\n",
      "Trainable params: 3,226,215\n",
      "Non-trainable params: 0\n",
      "_________________________________________________________________\n",
      "None\n"
     ]
    }
   ],
   "source": [
    "# Add Input Embedding Layer\n",
    "model = Sequential()\n",
    "\n",
    "model.add(Embedding(total_words, 10, input_length=max_len-1))\n",
    "\n",
    "# Add Hidden Layer 1 - LSTM Layer\n",
    "model.add(LSTM(100))\n",
    "model.add(Dropout(0.1))\n",
    "\n",
    "# Add Output Layer\n",
    "model.add(Dense(total_words, activation='softmax'))\n",
    "\n",
    "model.compile(loss='categorical_crossentropy', optimizer='adam')\n",
    "\n",
    "print(model.summary())"
   ]
  },
  {
   "cell_type": "code",
   "execution_count": 197,
   "metadata": {},
   "outputs": [
    {
     "name": "stdout",
     "output_type": "stream",
     "text": [
      "Epoch 1/10\n",
      "2565/2565 [==============================] - 241s 94ms/step - loss: 7.7706\n",
      "Epoch 2/10\n",
      "2565/2565 [==============================] - 236s 92ms/step - loss: 7.2184\n",
      "Epoch 3/10\n",
      "2565/2565 [==============================] - 238s 93ms/step - loss: 6.8500\n",
      "Epoch 4/10\n",
      "2565/2565 [==============================] - 1047s 408ms/step - loss: 6.5748\n",
      "Epoch 5/10\n",
      "2565/2565 [==============================] - 246s 96ms/step - loss: 6.3135\n",
      "Epoch 6/10\n",
      "2565/2565 [==============================] - 248s 97ms/step - loss: 6.0599\n",
      "Epoch 7/10\n",
      "2565/2565 [==============================] - 249s 97ms/step - loss: 5.8173\n",
      "Epoch 8/10\n",
      "2565/2565 [==============================] - 250s 98ms/step - loss: 5.5931\n",
      "Epoch 9/10\n",
      "2565/2565 [==============================] - 264s 103ms/step - loss: 5.3799\n",
      "Epoch 10/10\n",
      "2565/2565 [==============================] - 277s 108ms/step - loss: 5.1881s \n"
     ]
    },
    {
     "data": {
      "text/plain": [
       "<tensorflow.python.keras.callbacks.History at 0x25ee2f59488>"
      ]
     },
     "execution_count": 197,
     "metadata": {},
     "output_type": "execute_result"
    }
   ],
   "source": [
    "model.fit(predictors, label, epochs=10, verbose=1)"
   ]
  },
  {
   "cell_type": "code",
   "execution_count": 198,
   "metadata": {},
   "outputs": [],
   "source": [
    "model.save(\"shakespeare.h5\")"
   ]
  },
  {
   "cell_type": "code",
   "execution_count": null,
   "metadata": {},
   "outputs": [],
   "source": [
    "def predict(seed):\n",
    "    \"\"\"\n",
    "    input: \n",
    "    \"\"\""
   ]
  }
 ],
 "metadata": {
  "kernelspec": {
   "display_name": "Python 3",
   "language": "python",
   "name": "python3"
  },
  "language_info": {
   "codemirror_mode": {
    "name": "ipython",
    "version": 3
   },
   "file_extension": ".py",
   "mimetype": "text/x-python",
   "name": "python",
   "nbconvert_exporter": "python",
   "pygments_lexer": "ipython3",
   "version": "3.7.4"
  }
 },
 "nbformat": 4,
 "nbformat_minor": 4
}
