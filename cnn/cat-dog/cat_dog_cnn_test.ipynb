{
 "cells": [
  {
   "cell_type": "code",
   "execution_count": 2,
   "metadata": {},
   "outputs": [],
   "source": [
    "import numpy as np\n",
    "img_size = 128 #px\n",
    "label_dict = {\"Cat\":0, \"Dog\":1}\n",
    "x_data = []\n",
    "y_data = []"
   ]
  },
  {
   "cell_type": "code",
   "execution_count": 3,
   "metadata": {},
   "outputs": [],
   "source": [
    "import tensorflow as tf"
   ]
  },
  {
   "cell_type": "code",
   "execution_count": 4,
   "metadata": {},
   "outputs": [
    {
     "data": {
      "text/plain": [
       "0"
      ]
     },
     "execution_count": 4,
     "metadata": {},
     "output_type": "execute_result"
    }
   ],
   "source": [
    "label_dict[\"Cat\"]"
   ]
  },
  {
   "cell_type": "markdown",
   "metadata": {},
   "source": [
    "#### Preparing data\n",
    "grayscale, same dimensions, create labels, randomize data"
   ]
  },
  {
   "cell_type": "code",
   "execution_count": 5,
   "metadata": {},
   "outputs": [
    {
     "name": "stdout",
     "output_type": "stream",
     "text": [
      "0\n",
      "2000\n",
      "4000\n",
      "6000\n",
      "8000\n",
      "error: C:/Users/ians-pc/Downloads/kagglecatsanddogs_3367a/PetImages/Cat\\666.jpg\n",
      "10000\n",
      "12000\n",
      "0\n",
      "error: C:/Users/ians-pc/Downloads/kagglecatsanddogs_3367a/PetImages/Dog\\11702.jpg\n",
      "2000\n",
      "4000\n",
      "6000\n",
      "8000\n",
      "10000\n"
     ]
    },
    {
     "name": "stderr",
     "output_type": "stream",
     "text": [
      "C:\\Users\\ians-pc\\Anaconda3\\lib\\site-packages\\PIL\\TiffImagePlugin.py:770: UserWarning: Possibly corrupt EXIF data.  Expecting to read 32 bytes but only got 0. Skipping tag 270\n",
      "  \" Skipping tag %s\" % (size, len(data), tag)\n",
      "C:\\Users\\ians-pc\\Anaconda3\\lib\\site-packages\\PIL\\TiffImagePlugin.py:770: UserWarning: Possibly corrupt EXIF data.  Expecting to read 5 bytes but only got 0. Skipping tag 271\n",
      "  \" Skipping tag %s\" % (size, len(data), tag)\n",
      "C:\\Users\\ians-pc\\Anaconda3\\lib\\site-packages\\PIL\\TiffImagePlugin.py:770: UserWarning: Possibly corrupt EXIF data.  Expecting to read 8 bytes but only got 0. Skipping tag 272\n",
      "  \" Skipping tag %s\" % (size, len(data), tag)\n",
      "C:\\Users\\ians-pc\\Anaconda3\\lib\\site-packages\\PIL\\TiffImagePlugin.py:770: UserWarning: Possibly corrupt EXIF data.  Expecting to read 8 bytes but only got 0. Skipping tag 282\n",
      "  \" Skipping tag %s\" % (size, len(data), tag)\n",
      "C:\\Users\\ians-pc\\Anaconda3\\lib\\site-packages\\PIL\\TiffImagePlugin.py:770: UserWarning: Possibly corrupt EXIF data.  Expecting to read 8 bytes but only got 0. Skipping tag 283\n",
      "  \" Skipping tag %s\" % (size, len(data), tag)\n",
      "C:\\Users\\ians-pc\\Anaconda3\\lib\\site-packages\\PIL\\TiffImagePlugin.py:770: UserWarning: Possibly corrupt EXIF data.  Expecting to read 20 bytes but only got 0. Skipping tag 306\n",
      "  \" Skipping tag %s\" % (size, len(data), tag)\n",
      "C:\\Users\\ians-pc\\Anaconda3\\lib\\site-packages\\PIL\\TiffImagePlugin.py:770: UserWarning: Possibly corrupt EXIF data.  Expecting to read 48 bytes but only got 0. Skipping tag 532\n",
      "  \" Skipping tag %s\" % (size, len(data), tag)\n",
      "C:\\Users\\ians-pc\\Anaconda3\\lib\\site-packages\\PIL\\TiffImagePlugin.py:788: UserWarning: Corrupt EXIF data.  Expecting to read 2 bytes but only got 0. \n",
      "  warnings.warn(str(msg))\n"
     ]
    },
    {
     "name": "stdout",
     "output_type": "stream",
     "text": [
      "12000\n"
     ]
    }
   ],
   "source": [
    "import glob\n",
    "from PIL import Image\n",
    "for pet in [\"Cat\", \"Dog\"]:\n",
    "    pet_files = glob.glob(\"C:/Users/ians-pc/Downloads/kagglecatsanddogs_3367a/PetImages/\" + pet + \"/*.jpg\")\n",
    "#     print(pet_files)\n",
    "    for index, img_path in enumerate(pet_files):\n",
    "        try:\n",
    "            image = Image.open(img_path)\n",
    "            image = image.resize((img_size, img_size)) # resize\n",
    "            image = image.convert('L') # convert to grayscale\n",
    "            \n",
    "            #     print(image.format)\n",
    "            #     print(image.mode)\n",
    "            #     print(image.size)\n",
    "            # show the image\n",
    "            image = np.array(image)\n",
    "            x_data.append(image)\n",
    "            y_data.append(label_dict[pet])\n",
    "            if index % 2000 == 0: print(index)\n",
    "        except:\n",
    "            print(\"error:\", img_path)"
   ]
  },
  {
   "cell_type": "code",
   "execution_count": 6,
   "metadata": {},
   "outputs": [
    {
     "name": "stdout",
     "output_type": "stream",
     "text": [
      "(21873, 128, 128, 1)\n",
      "(3125, 128, 128, 1)\n",
      "(21873,)\n",
      "(3125,)\n",
      "[0. 1.]\n"
     ]
    }
   ],
   "source": [
    "import keras\n",
    "from sklearn.model_selection import train_test_split\n",
    "np_x_data = np.array(x_data)\n",
    "np_y_data = np.array(y_data)\n",
    "\n",
    "X_train, X_test, y_train, y_test = train_test_split(np_x_data, np_y_data, test_size=0.125, random_state=42)\n",
    "train_size = X_train.shape[0]\n",
    "test_size = X_test.shape[0]\n",
    "\n",
    "X_train = X_train.reshape(train_size, img_size, img_size, 1)\n",
    "X_test = X_test.reshape(test_size, img_size, img_size, 1)\n",
    "print(X_train.shape)\n",
    "print(X_test.shape)\n",
    "print(y_train.shape)\n",
    "print(y_test.shape)\n",
    "\n",
    "# convert class vectors to binary class matrices\n",
    "# (converts numeric values to one-hot encoding)\n",
    "y_train = keras.utils.to_categorical(y_train, num_classes=None)\n",
    "y_test = keras.utils.to_categorical(y_test, num_classes=None)\n",
    "print(y_train[0])"
   ]
  },
  {
   "cell_type": "code",
   "execution_count": 7,
   "metadata": {},
   "outputs": [
    {
     "name": "stdout",
     "output_type": "stream",
     "text": [
      "X_train shape: (21873, 128, 128, 1)\n",
      "21873 train samples\n",
      "3125 test samples\n"
     ]
    }
   ],
   "source": [
    "X_train = X_train.astype('float32')\n",
    "X_test = X_test.astype('float32')\n",
    "X_train /= 255\n",
    "X_test /= 255\n",
    "print('X_train shape:', X_train.shape)\n",
    "print(X_train.shape[0], 'train samples')\n",
    "print(X_test.shape[0], 'test samples')"
   ]
  },
  {
   "cell_type": "markdown",
   "metadata": {},
   "source": [
    "#### Create Model\n",
    "conv layer, pooling, flattening"
   ]
  },
  {
   "cell_type": "code",
   "execution_count": 8,
   "metadata": {},
   "outputs": [],
   "source": [
    "from keras.datasets import mnist\n",
    "from keras.models import Sequential\n",
    "from keras.layers import Dense, Dropout, Flatten\n",
    "from keras.layers import Conv2D, MaxPooling2D\n",
    "from keras import backend as K\n",
    "from keras.optimizers import SGD"
   ]
  },
  {
   "cell_type": "code",
   "execution_count": 9,
   "metadata": {},
   "outputs": [],
   "source": [
    "# MODEL 1\n",
    "num_classes=2\n",
    "model = Sequential()\n",
    "model.add(Conv2D(16, (3, 3), activation='relu', kernel_initializer='he_uniform', input_shape=(img_size, img_size, 1)))\n",
    "model.add(MaxPooling2D((2, 2)))\n",
    "model.add(Conv2D(32, (3, 3), activation='relu', kernel_initializer='he_uniform', input_shape=(img_size, img_size, 1)))\n",
    "model.add(MaxPooling2D((2, 2)))\n",
    "model.add(Conv2D(64, (3, 3), activation='relu', kernel_initializer='he_uniform', input_shape=(img_size, img_size, 1)))\n",
    "model.add(MaxPooling2D((2, 2)))\n",
    "model.add(Flatten()) #flatten = turning volume into 1d vector\n",
    "model.add(Dense(128, activation='relu', kernel_initializer='he_uniform'))\n",
    "model.add(Dense(num_classes, activation='softmax'))\n",
    "# compile model\n",
    "opt = SGD(lr=0.001, momentum=0.9)\n",
    "model.compile(optimizer=opt, loss='binary_crossentropy', metrics=['accuracy'])"
   ]
  },
  {
   "cell_type": "code",
   "execution_count": 10,
   "metadata": {},
   "outputs": [],
   "source": [
    "# MODEL 2 (WITH DROPOUT)\n",
    "num_classes=2\n",
    "model2 = Sequential()\n",
    "model2.add(Conv2D(16, (3, 3), padding='same', activation='relu', kernel_initializer='he_uniform', input_shape=(img_size, img_size, 1)))\n",
    "model2.add(MaxPooling2D((2, 2)))\n",
    "\n",
    "model2.add(Dropout(0.2))\n",
    "model2.add(Conv2D(32, (3, 3), padding='same', activation='relu', kernel_initializer='he_uniform', input_shape=(img_size, img_size, 1)))\n",
    "model2.add(MaxPooling2D((2, 2)))\n",
    "\n",
    "model2.add(Dropout(0.2))\n",
    "model2.add(Conv2D(64, (3, 3), padding='same', activation='relu', kernel_initializer='he_uniform', input_shape=(img_size, img_size, 1)))\n",
    "model2.add(MaxPooling2D((2, 2)))\n",
    "\n",
    "model2.add(Dropout(0.2))\n",
    "model2.add(Flatten()) #flatten = turning volume into 1d vector\n",
    "model2.add(Dense(128, activation='relu', kernel_initializer='he_uniform'))\n",
    "\n",
    "model2.add(Dropout(0.5))\n",
    "model2.add(Dense(num_classes, activation='softmax'))\n",
    "# compile model\n",
    "opt = SGD(lr=0.001, momentum=0.9)\n",
    "model2.compile(optimizer=opt, loss='categorical_crossentropy', metrics=['accuracy'])"
   ]
  },
  {
   "cell_type": "code",
   "execution_count": null,
   "metadata": {},
   "outputs": [],
   "source": [
    "# MODEL 3 (DROPOUT, SINGLE OUTPUT)\n",
    "model = Sequential()\n",
    "model.add(Conv2D(16, (3, 3), padding='same', activation='relu', kernel_initializer='he_uniform', input_shape=(img_size, img_size, 1)))\n",
    "model.add(MaxPooling2D((2, 2)))\n",
    "\n",
    "model.add(Dropout(0.2))\n",
    "model.add(Conv2D(32, (3, 3), padding='same', activation='relu', kernel_initializer='he_uniform', input_shape=(img_size, img_size, 1)))\n",
    "model.add(MaxPooling2D((2, 2)))\n",
    "\n",
    "model.add(Dropout(0.2))\n",
    "model.add(Conv2D(64, (3, 3), padding='same', activation='relu', kernel_initializer='he_uniform', input_shape=(img_size, img_size, 1)))\n",
    "model.add(MaxPooling2D((2, 2)))\n",
    "\n",
    "model.add(Dropout(0.2))\n",
    "model.add(Flatten()) #flatten = turning volume into 1d vector\n",
    "model.add(Dense(128, activation='relu', kernel_initializer='he_uniform'))\n",
    "\n",
    "model.add(Dropout(0.5))\n",
    "model.add(Dense(1, activation='sigmoid'))\n",
    "# compile model\n",
    "opt = SGD(lr=0.001, momentum=0.9)\n",
    "model.compile(optimizer=opt, loss='binary_crossentropy', metrics=['accuracy'])"
   ]
  },
  {
   "cell_type": "markdown",
   "metadata": {},
   "source": [
    "#### Train Model\n",
    "make sure to have the right model in [model].fit"
   ]
  },
  {
   "cell_type": "code",
   "execution_count": null,
   "metadata": {},
   "outputs": [
    {
     "name": "stdout",
     "output_type": "stream",
     "text": [
      "Epoch 1/50\n",
      "171/171 [==============================] - 195s 1s/step - loss: 0.7310 - accuracy: 0.5255 - val_loss: 0.6897 - val_accuracy: 0.5818\n",
      "Epoch 2/50\n",
      "171/171 [==============================] - 186s 1s/step - loss: 0.6864 - accuracy: 0.5441 - val_loss: 0.6864 - val_accuracy: 0.5846\n",
      "Epoch 3/50\n",
      "171/171 [==============================] - 196s 1s/step - loss: 0.6811 - accuracy: 0.5634 - val_loss: 0.6837 - val_accuracy: 0.5587\n",
      "Epoch 4/50\n",
      "171/171 [==============================] - 191s 1s/step - loss: 0.6789 - accuracy: 0.5657 - val_loss: 0.6836 - val_accuracy: 0.5632\n",
      "Epoch 5/50\n",
      "171/171 [==============================] - 199s 1s/step - loss: 0.6754 - accuracy: 0.5739 - val_loss: 0.6793 - val_accuracy: 0.5789\n",
      "Epoch 6/50\n",
      "171/171 [==============================] - 213s 1s/step - loss: 0.6742 - accuracy: 0.5788 - val_loss: 0.6798 - val_accuracy: 0.5661\n",
      "Epoch 7/50\n",
      "171/171 [==============================] - 198s 1s/step - loss: 0.6707 - accuracy: 0.5881 - val_loss: 0.6766 - val_accuracy: 0.5939\n",
      "Epoch 8/50\n",
      "171/171 [==============================] - 209s 1s/step - loss: 0.6699 - accuracy: 0.5882 - val_loss: 0.6747 - val_accuracy: 0.5933\n",
      "Epoch 9/50\n",
      "171/171 [==============================] - 208s 1s/step - loss: 0.6687 - accuracy: 0.5916 - val_loss: 0.6729 - val_accuracy: 0.5920\n",
      "Epoch 10/50\n",
      "171/171 [==============================] - 205s 1s/step - loss: 0.6649 - accuracy: 0.5974 - val_loss: 0.6705 - val_accuracy: 0.6067\n",
      "Epoch 11/50\n",
      "171/171 [==============================] - 244s 1s/step - loss: 0.6643 - accuracy: 0.5945 - val_loss: 0.6674 - val_accuracy: 0.6182\n",
      "Epoch 12/50\n",
      "171/171 [==============================] - 205s 1s/step - loss: 0.6620 - accuracy: 0.6052 - val_loss: 0.6671 - val_accuracy: 0.6131\n",
      "Epoch 13/50\n",
      "171/171 [==============================] - 208s 1s/step - loss: 0.6592 - accuracy: 0.6053 - val_loss: 0.6682 - val_accuracy: 0.5933\n",
      "Epoch 14/50\n",
      "171/171 [==============================] - 212s 1s/step - loss: 0.6580 - accuracy: 0.6039 - val_loss: 0.6665 - val_accuracy: 0.5882\n",
      "Epoch 15/50\n",
      "171/171 [==============================] - 217s 1s/step - loss: 0.6556 - accuracy: 0.6118 - val_loss: 0.6680 - val_accuracy: 0.5923\n",
      "Epoch 16/50\n",
      "171/171 [==============================] - 224s 1s/step - loss: 0.6547 - accuracy: 0.6095 - val_loss: 0.6687 - val_accuracy: 0.5763\n",
      "Epoch 17/50\n",
      "171/171 [==============================] - 224s 1s/step - loss: 0.6503 - accuracy: 0.6238 - val_loss: 0.6704 - val_accuracy: 0.5658\n",
      "Epoch 18/50\n",
      "171/171 [==============================] - 226s 1s/step - loss: 0.6494 - accuracy: 0.6232 - val_loss: 0.6714 - val_accuracy: 0.5686\n",
      "Epoch 19/50\n",
      "171/171 [==============================] - 225s 1s/step - loss: 0.6451 - accuracy: 0.6287 - val_loss: 0.6758 - val_accuracy: 0.5562\n",
      "Epoch 20/50\n",
      "171/171 [==============================] - 242s 1s/step - loss: 0.6441 - accuracy: 0.6256 - val_loss: 0.6736 - val_accuracy: 0.5658\n",
      "Epoch 21/50\n",
      "171/171 [==============================] - 235s 1s/step - loss: 0.6423 - accuracy: 0.6312 - val_loss: 0.6722 - val_accuracy: 0.5693\n",
      "Epoch 22/50\n",
      "171/171 [==============================] - 229s 1s/step - loss: 0.6389 - accuracy: 0.6349 - val_loss: 0.6800 - val_accuracy: 0.5565\n",
      "Epoch 23/50\n",
      "171/171 [==============================] - 262s 2s/step - loss: 0.6417 - accuracy: 0.6294 - val_loss: 0.6676 - val_accuracy: 0.5779\n",
      "Epoch 24/50\n",
      " 32/171 [====>.........................] - ETA: 3:04 - loss: 0.6346 - accuracy: 0.6384"
     ]
    }
   ],
   "source": [
    "batch_size = 128\n",
    "epochs = 50\n",
    "\n",
    "# make sure this is right model\n",
    "hist = model2.fit(X_train, y_train,batch_size=batch_size,epochs=epochs,verbose=1,validation_data=(X_test, y_test))\n",
    "\n",
    "print(\"The model has successfully trained\")"
   ]
  },
  {
   "cell_type": "code",
   "execution_count": 29,
   "metadata": {},
   "outputs": [
    {
     "name": "stdout",
     "output_type": "stream",
     "text": [
      "Saving the model as dogcat.h5\n"
     ]
    }
   ],
   "source": [
    "model2.save('dogcat3.h5') # MAKE SURE THIS IS RIGHT TOO\n",
    "print(\"Saving the model as dogcat.h5\")"
   ]
  },
  {
   "cell_type": "code",
   "execution_count": 19,
   "metadata": {},
   "outputs": [
    {
     "data": {
      "text/plain": [
       "[<matplotlib.lines.Line2D at 0x217b2f88e08>]"
      ]
     },
     "execution_count": 19,
     "metadata": {},
     "output_type": "execute_result"
    },
    {
     "data": {
      "image/png": "[encoded data removed]",
      "text/plain": [
       "<Figure size 432x288 with 1 Axes>"
      ]
     },
     "metadata": {
      "needs_background": "light"
     },
     "output_type": "display_data"
    },
    {
     "data": {
      "image/png": "[encoded data removed]",
      "text/plain": [
       "<Figure size 432x288 with 1 Axes>"
      ]
     },
     "metadata": {
      "needs_background": "light"
     },
     "output_type": "display_data"
    }
   ],
   "source": [
    "import matplotlib.pyplot as plt\n",
    "# plot loss\n",
    "# pyplot.title('Cross Entropy Loss')\n",
    "plt.figure(0)\n",
    "plt.plot(hist.history['loss'], color='blue', label='train')\n",
    "plt.plot(hist.history['val_loss'], color='orange', label='test')\n",
    "# plot accuracy\n",
    "# pyplot.title('Classification Accuracy')\n",
    "plt.figure(1)\n",
    "plt.plot(hist.history['accuracy'], color='blue', label='train')\n",
    "plt.plot(hist.history['val_accuracy'], color='orange', label='test')"
   ]
  },
  {
   "cell_type": "markdown",
   "metadata": {},
   "source": [
    "#### Testing Kaan's cat"
   ]
  },
  {
   "cell_type": "code",
   "execution_count": 2,
   "metadata": {},
   "outputs": [
    {
     "name": "stdout",
     "output_type": "stream",
     "text": [
      "[0.96020454 0.03979544]\n",
      "[0.8096979  0.19030215]\n",
      "[0.9694918  0.03050819]\n",
      "[0.50069714 0.4993028 ]\n",
      "[0.497124 0.502876]\n",
      "[0.8837196  0.11628029]\n",
      "[0.36685756 0.6331424 ]\n",
      "[0.40583336 0.5941667 ]\n"
     ]
    }
   ],
   "source": [
    "import keras, glob\n",
    "from PIL import Image\n",
    "model = keras.models.load_model(\"dogcat1.h5\")\n",
    "for kitty in glob.glob(\"C:/Users/ians-pc/Desktop/testing/*.png\"):\n",
    "    image = Image.open(kitty)\n",
    "    image = image.resize((img_size, img_size)) # resize\n",
    "    image = image.convert('L') # convert to grayscale\n",
    "    image.show()\n",
    "\n",
    "    #     print(image.format)\n",
    "    #     print(image.mode)\n",
    "    #     print(image.size)\n",
    "    # show the image\n",
    "    image = np.array(image)\n",
    "    image.resize(1, img_size, img_size, 1)\n",
    "    image.astype('float32')\n",
    "    image = np.divide(image, 255)\n",
    "    print(model.predict(image)[0])"
   ]
  },
  {
   "cell_type": "code",
   "execution_count": 30,
   "metadata": {},
   "outputs": [
    {
     "name": "stdout",
     "output_type": "stream",
     "text": [
      "[0.49394077 0.50605917]\n",
      "[0.49938098 0.50061905]\n",
      "[0.48883644 0.51116353]\n",
      "[0.49804634 0.5019537 ]\n",
      "[0.4968457  0.50315434]\n",
      "[0.49322486 0.50677514]\n",
      "[0.4921303 0.5078697]\n",
      "[0.4867422  0.51325786]\n"
     ]
    }
   ],
   "source": [
    "import keras, glob\n",
    "from PIL import Image\n",
    "model3 = keras.models.load_model(\"./dogcat3.h5\")\n",
    "for kitty in glob.glob(\"C:/Users/ians-pc/Desktop/testing/*.png\"):\n",
    "    image = Image.open(kitty)\n",
    "    image = image.resize((img_size, img_size)) # resize\n",
    "    image = image.convert('L') # convert to grayscale\n",
    "    #image.show()\n",
    "\n",
    "    #     print(image.format)\n",
    "    #     print(image.mode)\n",
    "    #     print(image.size)\n",
    "    # show the image\n",
    "    image = np.array(image)\n",
    "    image.resize(1, img_size, img_size, 1)\n",
    "    image.astype('float32')\n",
    "    image = np.divide(image, 255)\n",
    "    print(model3.predict(image)[0])"
   ]
  },
  {
   "cell_type": "code",
   "execution_count": null,
   "metadata": {},
   "outputs": [],
   "source": []
  }
 ],
 "metadata": {
  "kernelspec": {
   "display_name": "Python 3",
   "language": "python",
   "name": "python3"
  },
  "language_info": {
   "codemirror_mode": {
    "name": "ipython",
    "version": 3
   },
   "file_extension": ".py",
   "mimetype": "text/x-python",
   "name": "python",
   "nbconvert_exporter": "python",
   "pygments_lexer": "ipython3",
   "version": "3.7.4"
  }
 },
 "nbformat": 4,
 "nbformat_minor": 4
}
